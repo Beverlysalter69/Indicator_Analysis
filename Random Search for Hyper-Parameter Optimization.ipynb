{
 "cells": [
  {
   "cell_type": "code",
   "execution_count": 1,
   "metadata": {
    "collapsed": false
   },
   "outputs": [
    {
     "name": "stdout",
     "output_type": "stream",
     "text": [
      "Successfully downloaded train-images-idx3-ubyte.gz 9912422 bytes.\n",
      "Extracting MNIST_data/train-images-idx3-ubyte.gz\n",
      "Successfully downloaded train-labels-idx1-ubyte.gz 28881 bytes.\n",
      "Extracting MNIST_data/train-labels-idx1-ubyte.gz\n",
      "Successfully downloaded t10k-images-idx3-ubyte.gz 1648877 bytes.\n",
      "Extracting MNIST_data/t10k-images-idx3-ubyte.gz\n",
      "Successfully downloaded t10k-labels-idx1-ubyte.gz 4542 bytes.\n",
      "Extracting MNIST_data/t10k-labels-idx1-ubyte.gz\n"
     ]
    }
   ],
   "source": [
    "import tensorflow\n",
    "\n",
    "from tensorflow.examples.tutorials.mnist import input_data\n",
    "mnist = input_data.read_data_sets(\"MNIST_data/\", one_hot=True)"
   ]
  },
  {
   "cell_type": "code",
   "execution_count": 2,
   "metadata": {
    "collapsed": false
   },
   "outputs": [
    {
     "name": "stderr",
     "output_type": "stream",
     "text": [
      "Using TensorFlow backend.\n"
     ]
    }
   ],
   "source": [
    "import keras"
   ]
  },
  {
   "cell_type": "code",
   "execution_count": 3,
   "metadata": {
    "collapsed": false
   },
   "outputs": [],
   "source": [
    "class SearchConfig:\n",
    "    n_hidden=[18, 1024]\n",
    "    drop_ratio=[0, 0.5]\n",
    "    learning_rate=[1.0e-3, 10]\n",
    "    learning_anneal=[3.0e2, 3.0e4]"
   ]
  },
  {
   "cell_type": "code",
   "execution_count": 4,
   "metadata": {
    "collapsed": true
   },
   "outputs": [],
   "source": [
    "import numpy as np\n",
    "\n",
    "def sample_geo(conf):\n",
    "    low = conf[0]\n",
    "    high = conf[1]\n",
    "    u = np.random.uniform()\n",
    "    return np.exp((np.log(high) - np.log(low)) * u + np.log(low))"
   ]
  },
  {
   "cell_type": "code",
   "execution_count": 5,
   "metadata": {
    "collapsed": false
   },
   "outputs": [],
   "source": [
    "from keras.models import Sequential\n",
    "from keras.layers import Dense, Dropout, Activation\n",
    "from keras.optimizers import SGD\n",
    "from keras.layers.normalization import BatchNormalization\n",
    "\n",
    "conf = SearchConfig()\n",
    "model = Sequential()\n",
    "# layer 1\n",
    "model.add(Dense(sample_geo(conf.n_hidden), input_dim=784))\n",
    "model.add(Activation('relu'))\n",
    "model.add(BatchNormalization(mode=1))\n",
    "# layer 2\n",
    "model.add(Dropout(sample_geo(conf.drop_ratio)))\n",
    "model.add(Activation('relu'))\n",
    "model.add(BatchNormalization(mode=1))\n",
    "#layer 3\n",
    "model.add(Dropout(sample_geo(conf.drop_ratio)))\n",
    "model.add(Dense(sample_geo(conf.n_hidden)))\n",
    "model.add(Activation('relu'))\n",
    "model.add(BatchNormalization(mode=1))\n",
    "# layer 4\n",
    "model.add(Dropout(sample_geo(conf.drop_ratio)))\n",
    "model.add(Dense(10, activation='softmax'))"
   ]
  },
  {
   "cell_type": "code",
   "execution_count": 6,
   "metadata": {
    "collapsed": true
   },
   "outputs": [],
   "source": [
    "model.compile(loss='categorical_crossentropy',\n",
    "              optimizer='adadelta',\n",
    "              metrics=['accuracy'])"
   ]
  },
  {
   "cell_type": "code",
   "execution_count": 7,
   "metadata": {
    "collapsed": false
   },
   "outputs": [
    {
     "name": "stdout",
     "output_type": "stream",
     "text": [
      "Epoch 1/20\n",
      "55000/55000 [==============================] - 14s - loss: 0.2352 - acc: 0.9311    \n",
      "Epoch 2/20\n",
      "55000/55000 [==============================] - 14s - loss: 0.0959 - acc: 0.9718    \n",
      "Epoch 3/20\n",
      "55000/55000 [==============================] - 15s - loss: 0.0636 - acc: 0.9809    \n",
      "Epoch 4/20\n",
      "55000/55000 [==============================] - 14s - loss: 0.0470 - acc: 0.9864    \n",
      "Epoch 5/20\n",
      "55000/55000 [==============================] - 14s - loss: 0.0349 - acc: 0.9901    \n",
      "Epoch 6/20\n",
      "55000/55000 [==============================] - 14s - loss: 0.0264 - acc: 0.9921    \n",
      "Epoch 7/20\n",
      "55000/55000 [==============================] - 14s - loss: 0.0203 - acc: 0.9942    \n",
      "Epoch 8/20\n",
      "55000/55000 [==============================] - 14s - loss: 0.0157 - acc: 0.9955    \n",
      "Epoch 9/20\n",
      "55000/55000 [==============================] - 15s - loss: 0.0127 - acc: 0.9963    \n",
      "Epoch 10/20\n",
      "55000/55000 [==============================] - 16s - loss: 0.0095 - acc: 0.9974    \n",
      "Epoch 11/20\n",
      "55000/55000 [==============================] - 16s - loss: 0.0082 - acc: 0.9979    \n",
      "Epoch 12/20\n",
      "55000/55000 [==============================] - 15s - loss: 0.0067 - acc: 0.9982    \n",
      "Epoch 13/20\n",
      "55000/55000 [==============================] - 14s - loss: 0.0061 - acc: 0.9985    \n",
      "Epoch 14/20\n",
      "55000/55000 [==============================] - 14s - loss: 0.0063 - acc: 0.9982    \n",
      "Epoch 15/20\n",
      "55000/55000 [==============================] - 14s - loss: 0.0054 - acc: 0.9987    \n",
      "Epoch 16/20\n",
      "55000/55000 [==============================] - 13s - loss: 0.0044 - acc: 0.9986    \n",
      "Epoch 17/20\n",
      "55000/55000 [==============================] - 13s - loss: 0.0042 - acc: 0.9989    \n",
      "Epoch 18/20\n",
      "55000/55000 [==============================] - 13s - loss: 0.0027 - acc: 0.9992    \n",
      "Epoch 19/20\n",
      "55000/55000 [==============================] - 13s - loss: 0.0022 - acc: 0.9994    \n",
      "Epoch 20/20\n",
      "55000/55000 [==============================] - 13s - loss: 0.0019 - acc: 0.9995    \n"
     ]
    },
    {
     "ename": "NameError",
     "evalue": "name 'X_test' is not defined",
     "output_type": "error",
     "traceback": [
      "\u001b[1;31m---------------------------------------------------------------------------\u001b[0m",
      "\u001b[1;31mNameError\u001b[0m                                 Traceback (most recent call last)",
      "\u001b[1;32m<ipython-input-7-d195cabf5b99>\u001b[0m in \u001b[0;36m<module>\u001b[1;34m()\u001b[0m\n\u001b[0;32m      5\u001b[0m           \u001b[0mnb_epoch\u001b[0m\u001b[1;33m=\u001b[0m\u001b[1;36m20\u001b[0m\u001b[1;33m,\u001b[0m\u001b[1;33m\u001b[0m\u001b[0m\n\u001b[0;32m      6\u001b[0m           batch_size=16)\n\u001b[1;32m----> 7\u001b[1;33m \u001b[0mscore\u001b[0m \u001b[1;33m=\u001b[0m \u001b[0mmodel\u001b[0m\u001b[1;33m.\u001b[0m\u001b[0mevaluate\u001b[0m\u001b[1;33m(\u001b[0m\u001b[0mX_test\u001b[0m\u001b[1;33m,\u001b[0m \u001b[0my_test\u001b[0m\u001b[1;33m,\u001b[0m \u001b[0mbatch_size\u001b[0m\u001b[1;33m=\u001b[0m\u001b[1;36m16\u001b[0m\u001b[1;33m)\u001b[0m\u001b[1;33m\u001b[0m\u001b[0m\n\u001b[0m",
      "\u001b[1;31mNameError\u001b[0m: name 'X_test' is not defined"
     ]
    }
   ],
   "source": [
    "X_train = mnist.train.images\n",
    "y_train = mnist.train.labels\n",
    "\n",
    "model.fit(X_train, y_train,\n",
    "          nb_epoch=20,\n",
    "          batch_size=16)\n",
    "score = model.evaluate(X_test, y_test, batch_size=16)\n"
   ]
  },
  {
   "cell_type": "code",
   "execution_count": 24,
   "metadata": {
    "collapsed": false
   },
   "outputs": [
    {
     "data": {
      "text/plain": [
       "'/Users/admin/Documents/master_thesis/simulation'"
      ]
     },
     "execution_count": 24,
     "metadata": {},
     "output_type": "execute_result"
    }
   ],
   "source": [
    "pwd"
   ]
  },
  {
   "cell_type": "code",
   "execution_count": 2,
   "metadata": {
    "collapsed": false
   },
   "outputs": [
    {
     "data": {
      "text/plain": [
       "array([0, 1, 2, 3, 4, 5, 6, 7, 8])"
      ]
     },
     "execution_count": 2,
     "metadata": {},
     "output_type": "execute_result"
    }
   ],
   "source": [
    "import numpy as np\n",
    "\n",
    "np.arange(10)[0:-1]"
   ]
  },
  {
   "cell_type": "code",
   "execution_count": null,
   "metadata": {
    "collapsed": true
   },
   "outputs": [],
   "source": []
  }
 ],
 "metadata": {
  "kernelspec": {
   "display_name": "Python [Root]",
   "language": "python",
   "name": "Python [Root]"
  },
  "language_info": {
   "codemirror_mode": {
    "name": "ipython",
    "version": 2
   },
   "file_extension": ".py",
   "mimetype": "text/x-python",
   "name": "python",
   "nbconvert_exporter": "python",
   "pygments_lexer": "ipython2",
   "version": "2.7.12"
  }
 },
 "nbformat": 4,
 "nbformat_minor": 0
}
