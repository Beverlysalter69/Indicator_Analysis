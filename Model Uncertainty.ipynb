{
 "cells": [
  {
   "cell_type": "code",
   "execution_count": 51,
   "metadata": {
    "collapsed": false
   },
   "outputs": [],
   "source": [
    "import warnings\n",
    "import numpy as np\n",
    "import pandas as pd\n",
    "import time\n",
    "import sys\n",
    "# local library\n",
    "import utils\n",
    "\n",
    "import matplotlib.pyplot as plt\n",
    "\n",
    "%matplotlib inline"
   ]
  },
  {
   "cell_type": "code",
   "execution_count": 324,
   "metadata": {
    "collapsed": false
   },
   "outputs": [
    {
     "name": "stdout",
     "output_type": "stream",
     "text": [
      "we cound not fetch data from the following companies\n",
      "['CFG', 'FTV', 'NWS', 'COTY', 'SYF', 'UA', 'WRK', 'CSRA', 'NEE', 'EVHC', 'PYPL', 'NWSA', 'WLTW', 'NAVI', 'QRVO', 'KHC', 'MNK', 'ALLE', 'HPE']\n",
      "CPU times: user 8.1 s, sys: 898 ms, total: 9 s\n",
      "Wall time: 3min 16s\n"
     ]
    }
   ],
   "source": [
    "%%time\n",
    "\n",
    "symbols = utils.get_sap_symbols('sap500')\n",
    "np.random.shuffle(symbols)\n",
    "chosen_symbols = symbols\n",
    "start_date=\"2013-04-01\"\n",
    "end_date=\"2016-03-31\"\n",
    "# use Open data\n",
    "input_data = utils.get_data_list_key(chosen_symbols, start_date, end_date)\n",
    "target_data = utils.get_data('^GSPC', start_date, end_date)['Open']\n",
    "\n",
    "train_st = pd.Timestamp(\"2014-04-01\")\n",
    "train_end = pd.Timestamp(\"2015-03-31\")\n",
    "test_st = pd.Timestamp(\"2015-04-01\")\n",
    "test_end = pd.Timestamp(\"2016-03-31\")\n",
    "\n",
    "train_input = input_data.loc[(input_data.index >= train_st) & (input_data.index <= train_end)]\n",
    "train_target = target_data.loc[(target_data.index >= train_st) & (target_data.index <= train_end)]\n",
    "test_input = input_data.loc[(input_data.index >= test_st) & (input_data.index <= test_end)]\n",
    "test_target = target_data.loc[(target_data.index >= test_st) & (target_data.index <= test_end)]\n",
    "    \n",
    "# training\n",
    "n_stock = len(train_input.values[0])"
   ]
  },
  {
   "cell_type": "code",
   "execution_count": 415,
   "metadata": {
    "collapsed": false
   },
   "outputs": [],
   "source": [
    "import numpy as np\n",
    "import pandas as pd\n",
    "import tensorflow as tf\n",
    "from keras.models import Sequential\n",
    "from keras.layers import Dense, Dropout, Activation, Lambda\n",
    "from keras.layers import BatchNormalization\n",
    "from keras.layers.advanced_activations import PReLU\n",
    "from keras import backend as K\n",
    "from six.moves import xrange\n",
    "\n",
    "class MLP(object):\n",
    "    \"\"\"MLP to predict indicator values\"\"\"\n",
    "    def __init__(self, config):\n",
    "        \"\"\"Build MLP model through config\n",
    "\n",
    "        config: the following attributes\n",
    "            device: device to use for computation, e.g. '/gpu:0'\n",
    "            save_path: directory to save amd load your model\n",
    "            is_load: the flag if you use the previous model\n",
    "            n_stock: the number of caompanies for stock data\n",
    "            n_batch: batch size for SGD\n",
    "            n_epochs: the number of interation for training\n",
    "            learning_rate: initial learning rate value\n",
    "            anneal: the time when annealing starts\n",
    "            model: model configuration\n",
    "        \"\"\"\n",
    "        self.device = config['device']\n",
    "        self.save_path = config['save_path']\n",
    "        self.is_load = config['is_load']\n",
    "        self.n_input = config['n_input']\n",
    "        self.n_output = config['n_output']\n",
    "        self.n_batch = config['batch_size']\n",
    "        self.n_epoch = config['n_epoch']\n",
    "        self.lr = config['learning_rate']\n",
    "        self.anneal = config['anneal']\n",
    "        self.model_config = config['model']\n",
    "        # have compatibility with new tensorflow\n",
    "        tf.python.control_flow_ops = tf\n",
    "        # avoid creating _LEARNING_PHASE outside the network\n",
    "        K.clear_session()\n",
    "        self.sess = tf.Session(config=tf.ConfigProto(allow_soft_placement=True, log_device_placement=False))\n",
    "        K.set_session(self.sess)\n",
    "        with self.sess.as_default():\n",
    "            with tf.device(self.device):\n",
    "                self.build_model()\n",
    "        \n",
    "    def train(self, input_data, target_data):\n",
    "        \"\"\"training MLP with Adam Optimizer\n",
    "        \n",
    "        Args:\n",
    "            input_data (DataFrame): .values have the [None, n_stock] stock prices\n",
    "            target_data (DataFrame): .values have the [None] indicator values\n",
    "        \"\"\"\n",
    "        # to use for prediciton keep input data\n",
    "        stock_data = input_data.values\n",
    "        target_data = target_data.values\n",
    "        self.data = stock_data\n",
    "        T = len(stock_data)\n",
    "        print_freq = int(self.n_epoch / 10)\n",
    "        if print_freq == 0:\n",
    "            print_freq = 1\n",
    "        # index for shuffling\n",
    "        indices = np.arange(T)\n",
    "        lr = self.lr\n",
    "        for epoch in xrange(self.n_epoch):\n",
    "            np.random.shuffle(indices)\n",
    "            batch_indices = [indices[i: i + self.n_batch] for i in np.arange(0, T - self.n_batch, self.n_batch)]\n",
    "            for idx in batch_indices:\n",
    "                batch_input = [stock_data[t] for t in idx]\n",
    "                batch_target = [target_data[t] for t in idx]\n",
    "                # select transition from pool\n",
    "                self.sess.run(self.optim, \n",
    "                              feed_dict={self.input_: batch_input,\n",
    "                                         self.target: batch_target,\n",
    "                                         self.N: T,\n",
    "                                         self.learning_rate: lr,\n",
    "                                         K.learning_phase(): 1})  \n",
    "            # update learning rate by annealing\n",
    "            lr = lr * self.anneal / max(self.anneal, epoch)\n",
    "            \n",
    "            \n",
    "            if epoch % print_freq == 0:\n",
    "                print (\"epoch:\",  epoch)\n",
    "                loss = self.sess.run(self.loss, feed_dict={self.input_: stock_data,\n",
    "                                                           self.target: target_data,\n",
    "                                                           self.N: T,\n",
    "                                                          K.learning_phase(): 0})\n",
    "                print ('loss:', loss)\n",
    "            \n",
    "            \n",
    "        print (\"finished training\")\n",
    "        \n",
    "    def predict(self, input_data, n_monte=10):\n",
    "        \"\"\"Predict indicator values\n",
    "\n",
    "        Args:\n",
    "            input_data (DataFrame): .values have the [None, n_stock] stock prices\n",
    "        \"\"\"    \n",
    "        # to stabilize we use more than self.n_batch\n",
    "        index = input_data.index\n",
    "        data = input_data.values\n",
    "        n_data = len(data)\n",
    "        if n_data < self.n_batch:\n",
    "            n_add = self.n_batch - n_data \n",
    "            data = np.concatenate((self.data[-n_add:], data))\n",
    "        predictions = []\n",
    "        for i in xrange(n_monte):\n",
    "            predictions.append(self.sess.run(self.output, feed_dict={self.input_: data, \n",
    "                                                            K.learning_phase(): 1})[-n_data:])\n",
    "        predictions = np.array(predictions)\n",
    "        mean = np.mean(predictions, axis=0)\n",
    "        sig = np.sqrt(np.var(predictions, axis=0))\n",
    "        return pd.DataFrame({\"mean\": mean, \"sigma\": sig}, index=index)\n",
    "\n",
    "    def accuracy(self, input_data, target_data):\n",
    "        target_value = target_data.values\n",
    "        prediction = self.predict(input_data).values\n",
    "        return np.mean((target_value - prediction)**2)\n",
    "\n",
    "    \n",
    "    def build_model(self):\n",
    "        \"\"\"Build the network and optimizations \"\"\"\n",
    "        self.network = self.build_network()\n",
    "        self.input_ =  tf.placeholder(tf.float32, [None, self.n_input], name='input')\n",
    "        self.target = tf.placeholder(tf.float32, [None], name='target')\n",
    "        network_output = self.network(self.input_)\n",
    "        self.output = tf.reduce_sum(network_output * self.input_, 1)\n",
    "        scale = 1.0\n",
    "        tau = 1.0\n",
    "        self.loss = 0.5 * tf.reduce_mean((self.output - self.target)**2)\n",
    "        # compute regularizer coefficient\n",
    "        lamb = []\n",
    "        lamW= []\n",
    "        # the number of data\n",
    "        self.N = tf.placeholder(tf.float32, name='N')\n",
    "        for i, layer in enumerate(self.model_config):\n",
    "            if i == 0:\n",
    "                lamW.append(0.5 * (1 - layer['drop_rate']) / (tau * self.N))\n",
    "            else:\n",
    "                lamW.append(0.5 * layer['n_feature'] * (1 - layer['drop_rate']) / (tau * self.N))\n",
    "            lamb.append(0.5 * scale / (tau * self.N) )\n",
    "        # add regularizer\n",
    "        i_W = 0\n",
    "        i_b = 0\n",
    "        for layer in self.network.layers:\n",
    "            if hasattr(layer, 'W'):\n",
    "                self.loss += lamW[i_W] * tf.reduce_sum(layer.W**2)\n",
    "                i_W += 1\n",
    "            if hasattr(layer, 'b'):\n",
    "                self.loss += lamb[i_b] * tf.reduce_sum(layer.b**2)\n",
    "                i_b += 1\n",
    "        # optimization\n",
    "        self.learning_rate = tf.placeholder(tf.float32, shape=[], name=\"learning_rate\")\n",
    "        self.optim = tf.train.AdamOptimizer(self.learning_rate) \\\n",
    "            .minimize(self.loss)\n",
    "        tf.initialize_all_variables().run(session=self.sess)\n",
    "        # save model\n",
    "        self.saver = tf.train.Saver()\n",
    "            \n",
    "        \n",
    "    def build_network(self):\n",
    "        \"\"\"Build MLP network\"\"\"\n",
    "        model = Sequential()\n",
    "        model.add(Lambda(lambda x: x,  input_shape=(self.n_input,)))\n",
    "        for i, conf in enumerate(self.model_config):\n",
    "            if conf['is_drop']:\n",
    "                model.add(Dropout(conf['drop_rate']))\n",
    "            model.add(Dense(conf['n_feature']))\n",
    "            if conf['is_batch']:\n",
    "                model.add(BatchNormalization(mode=1, axis=-1))\n",
    "            if i < len(self.model_config) - 1:\n",
    "                model.add(PReLU())\n",
    "        return model\n",
    "    \n",
    "    \n",
    "    def save(self):\n",
    "        \"\"\"Save model at self.save_path\"\"\"\n",
    "        save_path = self.saver.save(self.sess, self.save_path)\n",
    "        print(\"Model saved in file: %s\" % save_path)\n",
    "\n",
    "    \n",
    "    def load(self):\n",
    "        \"\"\"Load model from self.save_path if possible\"\"\"\n",
    "        print(\" [*] Reading checkpoints...\")\n",
    "        try:\n",
    "            self.saver.restore(self.sess, self.save_path)\n",
    "            return True\n",
    "        except:\n",
    "            return False"
   ]
  },
  {
   "cell_type": "code",
   "execution_count": 416,
   "metadata": {
    "collapsed": true
   },
   "outputs": [],
   "source": [
    "config = {'n_epoch': 500, \n",
    "          'n_input': n_stock, \n",
    "          'learning_rate': 1e-3, \n",
    "          'device': '/gpu:0',\n",
    "          'save_path': None,\n",
    "         'batch_size': 128, \n",
    "          'is_full': True,  \n",
    "          'anneal': 1000,\n",
    "          'n_output': n_stock,\n",
    "          'is_load': False,\n",
    "          'model': [{'is_full': True, 'n_feature': 100, 'is_batch': True, 'is_drop': False, 'ksize': 4, 'drop_rate': 0.2}, \n",
    "                    {'is_full': True, 'n_feature': 100, 'is_batch': True, 'is_drop': False, 'ksize': 3, 'drop_rate': 0.2},\n",
    "                   {'is_full': True, 'n_feature': 100, 'is_batch': True, 'is_drop': False, 'ksize': 3, 'drop_rate': 0.2},\n",
    "                    {'is_full': True, 'n_feature': 100, 'is_batch': False, 'is_drop': False, 'ksize': 3, 'drop_rate': 0.2},\n",
    "                   {'is_full': True, 'n_feature': n_stock, 'is_batch': False, 'is_drop':False, 'ksize': 3, 'drop_rate': 0.0}]}"
   ]
  },
  {
   "cell_type": "code",
   "execution_count": 417,
   "metadata": {
    "collapsed": false
   },
   "outputs": [
    {
     "name": "stderr",
     "output_type": "stream",
     "text": [
      "/Users/admin/anaconda/lib/python3.5/site-packages/keras/engine/topology.py:1665: UserWarning: Model inputs must come from a Keras Input layer, they cannot be the output of a previous non-Input layer. Here, a tensor specified as input to \"sequential_1_model\" was not an Input tensor, it was generated by layer lambda_1.\n",
      "Note that input tensors are instantiated via `tensor = Input(shape)`.\n",
      "The tensor that caused the issue was: lambda_input_1:0\n",
      "  str(x.name))\n"
     ]
    },
    {
     "name": "stdout",
     "output_type": "stream",
     "text": [
      "epoch: 0\n",
      "loss: 34256.7\n",
      "epoch: 50\n",
      "loss: 696.071\n",
      "epoch: 100\n",
      "loss: 447.539\n",
      "epoch: 150\n",
      "loss: 346.394\n",
      "epoch: 200\n",
      "loss: 278.771\n",
      "epoch: 250\n",
      "loss: 256.409\n",
      "epoch: 300\n",
      "loss: 301.468\n",
      "epoch: 350\n",
      "loss: 254.993\n",
      "epoch: 400\n",
      "loss: 290.489\n",
      "epoch: 450\n",
      "loss: 223.622\n",
      "finished training\n"
     ]
    }
   ],
   "source": [
    "mlp = MLP(config)\n",
    "mlp.train(train_input, train_target)"
   ]
  },
  {
   "cell_type": "code",
   "execution_count": 418,
   "metadata": {
    "collapsed": false
   },
   "outputs": [
    {
     "name": "stdout",
     "output_type": "stream",
     "text": [
      "CPU times: user 2.64 s, sys: 138 ms, total: 2.78 s\n",
      "Wall time: 1.03 s\n"
     ]
    }
   ],
   "source": [
    "%%time\n",
    "prediction = mlp.predict(test_input, 100)[1:]"
   ]
  },
  {
   "cell_type": "code",
   "execution_count": 419,
   "metadata": {
    "collapsed": false
   },
   "outputs": [
    {
     "data": {
      "image/png": "[encoded data removed]",
      "text/plain": [
       "<matplotlib.figure.Figure at 0x1774c9a20>"
      ]
     },
     "metadata": {},
     "output_type": "display_data"
    }
   ],
   "source": [
    "plt.plot(prediction['mean'], label='prediction')\n",
    "plt.plot(test_target[1:], label='S&P500')\n",
    "pred_val = prediction.values[:-1]\n",
    "plt.fill_between(prediction.index, prediction['mean'].values - 2 * prediction['sigma'].values,\n",
    "                 prediction['mean'].values + 2 * prediction['sigma'].values,\n",
    "                 alpha=0.5, color='b')\n",
    "plt.legend()\n",
    "plt.savefig('dropoutbayes.jpg', dpi=300)"
   ]
  },
  {
   "cell_type": "code",
   "execution_count": 420,
   "metadata": {
    "collapsed": true
   },
   "outputs": [],
   "source": [
    "mean = prediction['mean'].values"
   ]
  },
  {
   "cell_type": "code",
   "execution_count": 421,
   "metadata": {
    "collapsed": false
   },
   "outputs": [],
   "source": [
    "updown = mean[1:] - mean[:-1] >= 0\n",
    "target_updown = test_target.values[2:] - test_target.values[1:-1] >= 0"
   ]
  },
  {
   "cell_type": "code",
   "execution_count": 422,
   "metadata": {
    "collapsed": false
   },
   "outputs": [],
   "source": [
    "count = 0\n",
    "for x, y in zip(updown, target_updown):\n",
    "    if x == y:\n",
    "        count += 1"
   ]
  },
  {
   "cell_type": "code",
   "execution_count": 423,
   "metadata": {
    "collapsed": false
   },
   "outputs": [
    {
     "data": {
      "text/plain": [
       "0.752"
      ]
     },
     "execution_count": 423,
     "metadata": {},
     "output_type": "execute_result"
    }
   ],
   "source": [
    "float(count) / len(updown)"
   ]
  },
  {
   "cell_type": "code",
   "execution_count": 292,
   "metadata": {
    "collapsed": false
   },
   "outputs": [
    {
     "data": {
      "text/plain": [
       "True"
      ]
     },
     "execution_count": 292,
     "metadata": {},
     "output_type": "execute_result"
    }
   ],
   "source": [
    "False == False"
   ]
  },
  {
   "cell_type": "code",
   "execution_count": 110,
   "metadata": {
    "collapsed": false
   },
   "outputs": [],
   "source": [
    "model = Sequential()\n",
    "model.add(Dense(1, input_shape=(10, )))\n",
    "model.add(Dropout(0.5))\n",
    "model.add(BatchNormalization(mode=1, axis=-1))\n",
    "model.add(Dense(2, activation='relu'))"
   ]
  },
  {
   "cell_type": "code",
   "execution_count": 111,
   "metadata": {
    "collapsed": false
   },
   "outputs": [],
   "source": [
    "a = model.layers[1]"
   ]
  },
  {
   "cell_type": "code",
   "execution_count": 112,
   "metadata": {
    "collapsed": false
   },
   "outputs": [
    {
     "data": {
      "text/plain": [
       "False"
      ]
     },
     "execution_count": 112,
     "metadata": {},
     "output_type": "execute_result"
    }
   ],
   "source": [
    "'dense' in a.name"
   ]
  },
  {
   "cell_type": "code",
   "execution_count": 113,
   "metadata": {
    "collapsed": false
   },
   "outputs": [
    {
     "ename": "AttributeError",
     "evalue": "'Dropout' object has no attribute 'W'",
     "output_type": "error",
     "traceback": [
      "\u001b[0;31m---------------------------------------------------------------------------\u001b[0m",
      "\u001b[0;31mAttributeError\u001b[0m                            Traceback (most recent call last)",
      "\u001b[0;32m<ipython-input-113-41abac35d2a0>\u001b[0m in \u001b[0;36m<module>\u001b[0;34m()\u001b[0m\n\u001b[0;32m----> 1\u001b[0;31m \u001b[0ma\u001b[0m\u001b[0;34m.\u001b[0m\u001b[0mW\u001b[0m\u001b[0;34m\u001b[0m\u001b[0m\n\u001b[0m",
      "\u001b[0;31mAttributeError\u001b[0m: 'Dropout' object has no attribute 'W'"
     ]
    }
   ],
   "source": [
    "a.W"
   ]
  },
  {
   "cell_type": "code",
   "execution_count": 103,
   "metadata": {
    "collapsed": false
   },
   "outputs": [
    {
     "data": {
      "text/plain": [
       "True"
      ]
     },
     "execution_count": 103,
     "metadata": {},
     "output_type": "execute_result"
    }
   ],
   "source": [
    "hasattr(a, 'W')"
   ]
  },
  {
   "cell_type": "code",
   "execution_count": 204,
   "metadata": {
    "collapsed": false
   },
   "outputs": [
    {
     "data": {
      "text/plain": [
       "'/Users/admin/anaconda/lib/python3.5/site-packages/tensorflow/python/ops/nn_ops.py'"
      ]
     },
     "execution_count": 204,
     "metadata": {},
     "output_type": "execute_result"
    }
   ],
   "source": [
    "import inspect\n",
    "inspect.getsourcefile(tf.nn.dropout)"
   ]
  },
  {
   "cell_type": "code",
   "execution_count": null,
   "metadata": {
    "collapsed": true
   },
   "outputs": [],
   "source": []
  }
 ],
 "metadata": {
  "kernelspec": {
   "display_name": "Python 3",
   "language": "python",
   "name": "python3"
  },
  "language_info": {
   "codemirror_mode": {
    "name": "ipython",
    "version": 3
   },
   "file_extension": ".py",
   "mimetype": "text/x-python",
   "name": "python",
   "nbconvert_exporter": "python",
   "pygments_lexer": "ipython3",
   "version": "3.5.1"
  }
 },
 "nbformat": 4,
 "nbformat_minor": 2
}
