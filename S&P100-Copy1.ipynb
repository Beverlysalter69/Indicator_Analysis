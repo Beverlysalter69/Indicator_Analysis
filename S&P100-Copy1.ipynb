{
 "cells": [
  {
   "cell_type": "code",
   "execution_count": 1,
   "metadata": {
    "collapsed": false
   },
   "outputs": [],
   "source": [
    "from __future__ import print_function\n",
    "\n",
    "import pickle\n",
    "import seaborn as sns\n",
    "import numpy as np\n",
    "import pandas as pd\n",
    "import json\n",
    "import os\n",
    "import copy\n",
    "import time\n",
    "import tensorflow as tf\n",
    "import matplotlib.pyplot as plt\n",
    "%matplotlib inline\n",
    "\n",
    "import sys\n",
    "import utils"
   ]
  },
  {
   "cell_type": "code",
   "execution_count": null,
   "metadata": {
    "collapsed": false
   },
   "outputs": [
    {
     "name": "stdout",
     "output_type": "stream",
     "text": [
      "Started!!\n"
     ]
    }
   ],
   "source": [
    "print (\"Started!!\")\n",
    "\n",
    "st = time.time()\n",
    "symbols = utils.get_sap_symbols('sap100')\n",
    "start_date=\"2013-10-01\"\n",
    "end_date=\"2016-10-01\"\n",
    "# use Open data\n",
    "input_data = utils.get_data_list_key(symbols, start_date, end_date)\n",
    "target_data = utils.get_data('^OEX', start_date, end_date)['Open']\n",
    "elapsed = time.time() - st\n",
    "print (\"time for getting data:\", elapsed)"
   ]
  },
  {
   "cell_type": "code",
   "execution_count": null,
   "metadata": {
    "collapsed": false
   },
   "outputs": [],
   "source": [
    "train_st = pd.Timestamp(\"2013-10-01\")\n",
    "train_end = pd.Timestamp(\"2015-10-01\")\n",
    "test_st = pd.Timestamp(\"2015-10-02\")\n",
    "test_end = pd.Timestamp(\"2016-10-01\")\n",
    "\n",
    "train_input = input_data.loc[(input_data.index >= train_st) & (input_data.index <= train_end)]\n",
    "train_target = target_data.loc[(target_data.index >= train_st) & (target_data.index <= train_end)]\n",
    "test_input = input_data.loc[(input_data.index >= test_st) & (input_data.index <= test_end)]\n",
    "test_target = target_data.loc[(target_data.index >= test_st) & (target_data.index <= test_end)]"
   ]
  },
  {
   "cell_type": "markdown",
   "metadata": {},
   "source": [
    "# MLP"
   ]
  },
  {
   "cell_type": "code",
   "execution_count": 145,
   "metadata": {
    "collapsed": true
   },
   "outputs": [],
   "source": [
    "import tensorflow as tf\n",
    "from keras.models import Sequential\n",
    "from keras.layers import Dense, Dropout, Activation,\n",
    "from keras.layers import BatchNormalization\n",
    "from keras.layers.advanced_activations import PReLU\n",
    "from keras.layers import Dropout\n",
    "from keras import backend as K\n",
    "# from keras.layers.core import K\n",
    "tf.python.control_flow_ops = tf\n",
    "\n",
    "class MLP(object):\n",
    "    \"\"\"using multisclae CNN, duplicate indicator\"\"\"\n",
    "    def __init__(self, config):\n",
    "        self.device = config.device\n",
    "        self.save_path = config.save_path\n",
    "        self.is_load = config.is_load\n",
    "        self.n_stock = config.n_stock\n",
    "        self.n_hidden = config.n_hidden\n",
    "        self.n_batch = config.n_batch\n",
    "        self.n_epochs = config.n_epochs\n",
    "        self.lr = config.learning_rate\n",
    "        print (\"building model....\")\n",
    "        # have compatibility with new tensorflow\n",
    "        tf.python.control_flow_ops = tf\n",
    "        # avoid creating _LEARNING_PHASE outside the network\n",
    "        K.clear_session()\n",
    "        self.sess = tf.Session(config=tf.ConfigProto(allow_soft_placement=True, log_device_placement=False))\n",
    "        K.set_session(self.sess)\n",
    "        with self.sess.as_default():\n",
    "            with tf.device(self.device):\n",
    "                self.build_model()\n",
    "        print('finished building model!')\n",
    "        \n",
    "    def training(self, stock_data, target_data):\n",
    "        \"\"\"training multi scale CNN with Adam Optimizer\n",
    "        \n",
    "        Args:\n",
    "            data (list): stock prices for n_stock companies\n",
    "        \"\"\"\n",
    "        # to use for prediciton keep input data\n",
    "        self.data = stock_data\n",
    "        T = len(stock_data)\n",
    "        print_freq = int(T / 10)\n",
    "        if print_freq == 0:\n",
    "            print_freq = 1\n",
    "        print_freq = 100\n",
    "        print (\"training....\")\n",
    "        # index for shuffling\n",
    "        indices = np.arange(T)\n",
    "        for epoch in xrange(self.n_epochs):\n",
    "            np.random.shuffle(indices)\n",
    "            batch_indices = [indices[i: i + self.n_batch] for i in np.arange(0, T - self.n_batch, self.n_batch)]\n",
    "            for idx in batch_indices:\n",
    "                batch_input = [stock_data[t] for t in idx]\n",
    "                batch_target = [target_data[t] for t in idx]\n",
    "                # select transition from pool\n",
    "                self.sess.run(self.optim, \n",
    "                              feed_dict={self.input: batch_inpu,\n",
    "                                         self.target: batch_target,\n",
    "                                         self.learning_rate: self.lr,\n",
    "                                         K.learning_phase(): 1})  \n",
    "            if epoch % print_freq == 0:\n",
    "                print (\"epoch:\",  epoch)\n",
    "                loss = self.sess.run(self.loss, feed_dict={self.input: test_input,\n",
    "                                                           self.target: target_data,\n",
    "                                                          K.learning_phase(): 0})\n",
    "                print ('loss_test:', loss)\n",
    "        print (\"finished\")\n",
    "        \n",
    "    def predict(self, data):\n",
    "        # to stabilize we use more than self.n_batch\n",
    "        n_data = len(data)\n",
    "        if n_data < self.n_batch:\n",
    "            n_add = self.n_batch - n_data \n",
    "            data = np.concatenate((self.data[-n_add:], data))\n",
    "        prediction = self.sess.run(self.output, feed_dict={self.input: data, \n",
    "                                                            K.learning_phase(): 0})[-n_data:]\n",
    "        return prediction\n",
    "\n",
    "    \n",
    "    def build_model(self):\n",
    "        \"\"\"Build all of the network and optimizations\n",
    "        \n",
    "        just for conveninece of trainig, seprate placehoder for train and target network\n",
    "        critic network input: [raw_data, smoothed, downsampled, action]\n",
    "        actor network input: [raw_data, smoothed, downsampled]\n",
    "        \"\"\"\n",
    "        self.network = self.build_network()\n",
    "        # transform input into the several scales and smoothing\n",
    "        self.input =  tf.placeholder(tf.float32, [None, self.n_stock], name='input')\n",
    "        self.target = tf.placeholder(tf.float32, [None], name='target')\n",
    "        network_output = self.network(self.input)\n",
    "        self.output = tf.reduce_sum(network_output * self.input, 1)\n",
    "        self.loss = tf.reduce_mean((self.output - self.target)**2)\n",
    "        # optimization\n",
    "        self.learning_rate = tf.placeholder(tf.float32, shape=[], name=\"learning_rate\")\n",
    "        self.optim = tf.train.AdamOptimizer(self.learning_rate) \\\n",
    "            .minimize(self.loss)\n",
    "        tf.initialize_all_variables().run(session=self.sess)\n",
    "            \n",
    "        \n",
    "    def build_network(self):\n",
    "        \"\"\"Build critic network\n",
    "        \n",
    "        recieve convereted tensor: raw_data, smooted_data, and downsampled_data\n",
    "        \"\"\"\n",
    "        nf = self.n_feature\n",
    "        # layer1\n",
    "        # raw input\n",
    "        model = Sequential()\n",
    "        nf = self.n_feature\n",
    "        model.add(Dense(200, input_shape=(self.n_stock,)))\n",
    "        model.add(BatchNormalization(mode=1, axis=-1))\n",
    "        model.add(PReLU())\n",
    "        # layer2\n",
    "        nf = nf * 2\n",
    "        model.add(Dense(200, input_shape=(self.n_stock,)))\n",
    "        model.add(BatchNormalization(mode=1, axis=-1))\n",
    "        model.add(PReLU())\n",
    "        # layer3\n",
    "        model.add(Dense(200))\n",
    "        model.add(BatchNormalization(mode=1, axis=-1))\n",
    "        model.add(PReLU())\n",
    "        # layer4\n",
    "        # model.add(Dropout(0.5))\n",
    "        model.add(Dense(100))\n",
    "        # model.add(BatchNormalization(mode=1, axis=-1))\n",
    "        model.add(PReLU())\n",
    "        # output\n",
    "        # model.add(Dropout(0.5))\n",
    "        model.add(Dense(self.n_stock))\n",
    "        return model\n",
    "\n",
    "    \n",
    "    def load(self, checkpoint_dir):\n",
    "        print(\" [*] Reading checkpoints...\")\n",
    "        try:\n",
    "            self.saver.restore(self.sess, self.save_path)\n",
    "            return True\n",
    "        except:\n",
    "            return False\n"
   ]
  },
  {
   "cell_type": "code",
   "execution_count": 157,
   "metadata": {
    "collapsed": false
   },
   "outputs": [],
   "source": [
    "n_stock = len(data[0])\n",
    "\n",
    "class MSCNNConfig(object):\n",
    "    device = '/cpu:0'\n",
    "    save_path = '/home/tomoaki/work/github/Indicator_Analysis/model.ckpt'\n",
    "    is_load = False\n",
    "    activation = 'relu'\n",
    "    gamma = 0.99\n",
    "    history_length = 10\n",
    "    n_stock = n_stock\n",
    "    n_smooth = 5\n",
    "    n_down = 5\n",
    "    k_w = 3\n",
    "    n_hidden = 100\n",
    "    n_batch = 32\n",
    "    n_epochs = 10000\n",
    "    n_feature = 32\n",
    "    alpha = 0.7\n",
    "    beta = 0.5\n",
    "    update_rate = 1e-2\n",
    "    learning_rate = 1e-2"
   ]
  },
  {
   "cell_type": "code",
   "execution_count": 158,
   "metadata": {
    "collapsed": false
   },
   "outputs": [
    {
     "name": "stdout",
     "output_type": "stream",
     "text": [
      "building model....\n",
      "finished building model!\n",
      "training....\n",
      "epoch: 0\n",
      "loss_train: 1.01576e+07\n",
      "loss_test: 7.8858e+06\n",
      "epoch: 100\n",
      "loss_train: 13254.2\n",
      "loss_test: 5892.88\n",
      "epoch: 200\n",
      "loss_train: 4350.56\n",
      "loss_test: 2908.76\n",
      "epoch: 300\n",
      "loss_train: 1855.87\n",
      "loss_test: 957.012\n",
      "epoch: 400\n",
      "loss_train: 809.822\n",
      "loss_test: 427.327\n",
      "epoch: 500\n",
      "loss_train: 528.155\n",
      "loss_test: 271.548\n",
      "epoch: 600\n",
      "loss_train: 334.421\n",
      "loss_test: 249.004\n",
      "epoch: 700\n",
      "loss_train: 393.064\n",
      "loss_test: 273.897\n",
      "epoch: 800\n",
      "loss_train: 245.241\n",
      "loss_test: 206.441\n",
      "epoch: 900\n",
      "loss_train: 270.811\n",
      "loss_test: 183.252\n",
      "finished\n",
      "CPU times: user 27.2 s, sys: 1.4 s, total: 28.6 s\n",
      "Wall time: 13.4 s\n"
     ]
    }
   ],
   "source": [
    "%%time\n",
    "import warnings\n",
    "warnings.filterwarnings(\"ignore\")\n",
    "\n",
    "config = MSCNNConfig()\n",
    "mlp = MLP(config)\n",
    "mlp.training(data, target_data)"
   ]
  },
  {
   "cell_type": "markdown",
   "metadata": {},
   "source": [
    "### "
   ]
  },
  {
   "cell_type": "code",
   "execution_count": 154,
   "metadata": {
    "collapsed": false
   },
   "outputs": [
    {
     "data": {
      "text/plain": [
       "<matplotlib.legend.Legend at 0x7f9d52439c90>"
      ]
     },
     "execution_count": 154,
     "metadata": {},
     "output_type": "execute_result"
    },
    {
     "data": {
      "image/png": "[encoded data removed]",
      "text/plain": [
       "<matplotlib.figure.Figure at 0x7f9d5250cf50>"
      ]
     },
     "metadata": {},
     "output_type": "display_data"
    }
   ],
   "source": [
    "prediction = mlp.predict(pred_input.values)\n",
    "n_data = len(prediction)\n",
    "plt.plot(prediction, label='prediction')\n",
    "plt.plot(pred_target[-n_data:], label='target')\n",
    "plt.legend()"
   ]
  },
  {
   "cell_type": "code",
   "execution_count": 5,
   "metadata": {
    "collapsed": false
   },
   "outputs": [],
   "source": [
    "a = np.random.randn??"
   ]
  },
  {
   "cell_type": "code",
   "execution_count": 6,
   "metadata": {
    "collapsed": true
   },
   "outputs": [],
   "source": [
    "a = np.random.randn(10, 10)"
   ]
  },
  {
   "cell_type": "code",
   "execution_count": 8,
   "metadata": {
    "collapsed": false
   },
   "outputs": [
    {
     "data": {
      "text/plain": [
       "array([[-0.77005504, -0.64673734, -2.35499318, -0.41608836,  0.59727401,\n",
       "        -0.88288025,  0.63404298,  1.6629723 , -0.3622952 , -0.06545881]])"
      ]
     },
     "execution_count": 8,
     "metadata": {},
     "output_type": "execute_result"
    }
   ],
   "source": [
    "a[-1:]"
   ]
  },
  {
   "cell_type": "code",
   "execution_count": null,
   "metadata": {
    "collapsed": true
   },
   "outputs": [],
   "source": [
    "class SearchConfig:\n",
    "    history_length=[8, 64]\n",
    "    learning_rate=[1e-3, 10]\n",
    "    leraning_anneal=[3.0e2, 3.0e4]\n",
    "    n_feature=[18, 1024]\n",
    "    n_filter=[2, 8]\n",
    "    n_hidden=[18, 1024]"
   ]
  },
  {
   "cell_type": "code",
   "execution_count": null,
   "metadata": {
    "collapsed": true
   },
   "outputs": [],
   "source": [
    "import numpy as np\n",
    "\n",
    "def sample_geo(conf):\n",
    "    low = conf[0]\n",
    "    high = conf[1]\n",
    "    u = np.random.uniform()\n",
    "    return np.exp((np.log(high / low) * u + np.log(low)))"
   ]
  },
  {
   "cell_type": "code",
   "execution_count": null,
   "metadata": {
    "collapsed": true
   },
   "outputs": [],
   "source": [
    "def make_train(data, hl):\n",
    "    return np.array([data[i:i+hl] for i in xrange(len(data) - hl + 1)])"
   ]
  }
 ],
 "metadata": {
  "kernelspec": {
   "display_name": "Python 3",
   "language": "python",
   "name": "python3"
  },
  "language_info": {
   "codemirror_mode": {
    "name": "ipython",
    "version": 3
   },
   "file_extension": ".py",
   "mimetype": "text/x-python",
   "name": "python",
   "nbconvert_exporter": "python",
   "pygments_lexer": "ipython3",
   "version": "3.5.1"
  }
 },
 "nbformat": 4,
 "nbformat_minor": 0
}
